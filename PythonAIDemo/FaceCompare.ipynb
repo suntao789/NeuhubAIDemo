{
 "cells": [
  {
   "cell_type": "code",
   "execution_count": 1,
   "metadata": {},
   "outputs": [
    {
     "name": "stdout",
     "output_type": "stream",
     "text": [
      "3b31ce59-7054-4948-a659-80f085560f81\n",
      "{'code': '10000', 'charge': False, 'remain': 0, 'remainTimes': -1, 'remainSeconds': -1, 'msg': '查询成功', 'result': {'status': 0, 'message': 'success', 'requestid': '2a686d2c1688490bb63703daac6a315b', 'score': 0.68483555}}\n"
     ]
    }
   ],
   "source": [
    "import base64\n",
    "import requests\n",
    "from requests import post, auth, exceptions\n",
    "from json import loads\n",
    "#get token\n",
    "params = {\n",
    "    \"grant_type\": \"client_credentials\"\n",
    "}\n",
    "client_id = \"xxxxxxxxxxxxxxxx\"\n",
    "client_secret = \"xxx\"\n",
    "application_url = \"https://xa-ccyaigw.jdcloud.com/\"\n",
    "path = \"neuhub/face_compare\"\n",
    "\n",
    "token_url  = r\"https://xian-aiauth.jdcloud.com/oauth/token\"\n",
    "headers = {'Content-Type': 'application/x-www-form-urlencoded'}\n",
    "auth = auth.HTTPBasicAuth(client_id, client_secret)\n",
    "resp = None\n",
    "token = None\n",
    "try:\n",
    "    resp = post(token_url, auth=auth, data=params, headers=headers, timeout=5)\n",
    "except exceptions.ConnectionError:\n",
    "    exit(1)\n",
    "if resp.status_code == 200:\n",
    "    resp = loads(resp.text)\n",
    "    if 'access_token' in resp:\n",
    "        token = resp['access_token']\n",
    "        print(resp['access_token'])\n",
    "        exit(0)\n",
    "# 图片编码为base64\n",
    "photo = [\"3.jpg\",\"10.jpg\"]\n",
    "basedata = []\n",
    "for name in photo:\n",
    "    with open(name, 'rb') as fin:\n",
    "        image_data = fin.read()\n",
    "        #print(image_data)\n",
    "        temp = str(base64.b64encode(image_data))\n",
    "        basedata.append(temp.split(\"'\")[1])\n",
    "        #print(base64_data)\n",
    "#conplate the string\n",
    "body = \"imageBase64_1=\" + basedata[0] + '&' + \"imageBase64_2=\" + basedata[1]\n",
    "#send the content\n",
    "#url = \"https://xa-ccyaigw.jdcloud.com/neuhub/face_compare?access_token=3b31ce59-7054-4948-a659-80f085560f81\"\n",
    "url = application_url + path + \"?access_token=\" + token\n",
    "response = requests.post(url, data=body)\n",
    "print(response.json())"
   ]
  },
  {
   "cell_type": "code",
   "execution_count": null,
   "metadata": {},
   "outputs": [],
   "source": []
  },
  {
   "cell_type": "code",
   "execution_count": null,
   "metadata": {},
   "outputs": [],
   "source": []
  }
 ],
 "metadata": {
  "kernelspec": {
   "display_name": "Python 3",
   "language": "python",
   "name": "python3"
  },
  "language_info": {
   "codemirror_mode": {
    "name": "ipython",
    "version": 3
   },
   "file_extension": ".py",
   "mimetype": "text/x-python",
   "name": "python",
   "nbconvert_exporter": "python",
   "pygments_lexer": "ipython3",
   "version": "3.6.7"
  }
 },
 "nbformat": 4,
 "nbformat_minor": 2
}
